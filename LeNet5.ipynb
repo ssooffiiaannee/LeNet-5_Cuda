{
 "cells": [
  {
   "cell_type": "code",
   "execution_count": 3,
   "metadata": {},
   "outputs": [],
   "source": [
    "import tensorflow as tf\n",
    "from tensorflow import keras\n",
    "import numpy as np"
   ]
  },
  {
   "cell_type": "code",
   "execution_count": 4,
   "metadata": {},
   "outputs": [],
   "source": [
    "lenet_5_model = keras.models.load_model(\"my.h5\")"
   ]
  },
  {
   "cell_type": "code",
   "execution_count": 26,
   "metadata": {},
   "outputs": [
    {
     "data": {
      "text/plain": [
       "[0.08592291, 0.019856969, 0.057626158, -0.048705317, -0.06366199, -0.07696981]"
      ]
     },
     "execution_count": 26,
     "metadata": {},
     "output_type": "execute_result"
    }
   ],
   "source": [
    "import h5py\n",
    "import numpy as np\n",
    "m = h5py.File('my.h5', 'r')\n",
    "list(m[\"model_weights\"]['conv2d'][\"conv2d\"][\"bias:0\"])"
   ]
  },
  {
   "cell_type": "code",
   "execution_count": 27,
   "metadata": {},
   "outputs": [],
   "source": [
    "layers = ['conv2d', 'conv2d_1', 'dense', 'dense_1', 'dense_2']"
   ]
  },
  {
   "cell_type": "code",
   "execution_count": 28,
   "metadata": {},
   "outputs": [
    {
     "data": {
      "text/plain": [
       "('conv2d', str)"
      ]
     },
     "execution_count": 28,
     "metadata": {},
     "output_type": "execute_result"
    }
   ],
   "source": [
    "layers[0], type(layers[0])"
   ]
  },
  {
   "cell_type": "code",
   "execution_count": 29,
   "metadata": {},
   "outputs": [
    {
     "ename": "TypeError",
     "evalue": "'_io.TextIOWrapper' object is not subscriptable",
     "output_type": "error",
     "traceback": [
      "\u001b[0;31m---------------------------------------------------------------------------\u001b[0m",
      "\u001b[0;31mTypeError\u001b[0m                                 Traceback (most recent call last)",
      "\u001b[0;32m<ipython-input-29-627256345c95>\u001b[0m in \u001b[0;36m<module>\u001b[0;34m\u001b[0m\n\u001b[0;32m----> 1\u001b[0;31m \u001b[0mnp\u001b[0m\u001b[0;34m.\u001b[0m\u001b[0marray\u001b[0m\u001b[0;34m(\u001b[0m\u001b[0mf\u001b[0m\u001b[0;34m[\u001b[0m\u001b[0;34m\"model_weights\"\u001b[0m\u001b[0;34m]\u001b[0m\u001b[0;34m[\u001b[0m\u001b[0;34m\"conv2d\"\u001b[0m\u001b[0;34m]\u001b[0m\u001b[0;34m[\u001b[0m\u001b[0;34m\"conv2d\"\u001b[0m\u001b[0;34m]\u001b[0m\u001b[0;34m[\u001b[0m\u001b[0;34m\"kernel:0\"\u001b[0m\u001b[0;34m]\u001b[0m\u001b[0;34m)\u001b[0m\u001b[0;34m.\u001b[0m\u001b[0mshape\u001b[0m\u001b[0;34m\u001b[0m\u001b[0;34m\u001b[0m\u001b[0m\n\u001b[0m",
      "\u001b[0;31mTypeError\u001b[0m: '_io.TextIOWrapper' object is not subscriptable"
     ]
    }
   ],
   "source": [
    "np.array(f[\"model_weights\"][\"conv2d\"][\"conv2d\"][\"kernel:0\"]).shape"
   ]
  },
  {
   "cell_type": "code",
   "execution_count": 30,
   "metadata": {},
   "outputs": [
    {
     "ename": "TypeError",
     "evalue": "'_io.TextIOWrapper' object is not subscriptable",
     "output_type": "error",
     "traceback": [
      "\u001b[0;31m---------------------------------------------------------------------------\u001b[0m",
      "\u001b[0;31mTypeError\u001b[0m                                 Traceback (most recent call last)",
      "\u001b[0;32m<ipython-input-30-27770aa0bbf3>\u001b[0m in \u001b[0;36m<module>\u001b[0;34m\u001b[0m\n\u001b[0;32m----> 1\u001b[0;31m \u001b[0mnp\u001b[0m\u001b[0;34m.\u001b[0m\u001b[0marray\u001b[0m\u001b[0;34m(\u001b[0m\u001b[0mf\u001b[0m\u001b[0;34m[\u001b[0m\u001b[0;34m\"model_weights\"\u001b[0m\u001b[0;34m]\u001b[0m\u001b[0;34m[\u001b[0m\u001b[0mlayers\u001b[0m\u001b[0;34m[\u001b[0m\u001b[0;36m0\u001b[0m\u001b[0;34m]\u001b[0m\u001b[0;34m]\u001b[0m\u001b[0;34m[\u001b[0m\u001b[0mlayers\u001b[0m\u001b[0;34m[\u001b[0m\u001b[0;36m0\u001b[0m\u001b[0;34m]\u001b[0m\u001b[0;34m]\u001b[0m\u001b[0;34m[\u001b[0m\u001b[0;34m\"kernel:0\"\u001b[0m\u001b[0;34m]\u001b[0m\u001b[0;34m)\u001b[0m\u001b[0;34m.\u001b[0m\u001b[0mshape\u001b[0m\u001b[0;34m\u001b[0m\u001b[0;34m\u001b[0m\u001b[0m\n\u001b[0m",
      "\u001b[0;31mTypeError\u001b[0m: '_io.TextIOWrapper' object is not subscriptable"
     ]
    }
   ],
   "source": [
    "np.array(f[\"model_weights\"][layers[0]][layers[0]][\"kernel:0\"]).shape"
   ]
  },
  {
   "cell_type": "code",
   "execution_count": 31,
   "metadata": {},
   "outputs": [
    {
     "ename": "TypeError",
     "evalue": "'_io.TextIOWrapper' object is not subscriptable",
     "output_type": "error",
     "traceback": [
      "\u001b[0;31m---------------------------------------------------------------------------\u001b[0m",
      "\u001b[0;31mTypeError\u001b[0m                                 Traceback (most recent call last)",
      "\u001b[0;32m<ipython-input-31-27770aa0bbf3>\u001b[0m in \u001b[0;36m<module>\u001b[0;34m\u001b[0m\n\u001b[0;32m----> 1\u001b[0;31m \u001b[0mnp\u001b[0m\u001b[0;34m.\u001b[0m\u001b[0marray\u001b[0m\u001b[0;34m(\u001b[0m\u001b[0mf\u001b[0m\u001b[0;34m[\u001b[0m\u001b[0;34m\"model_weights\"\u001b[0m\u001b[0;34m]\u001b[0m\u001b[0;34m[\u001b[0m\u001b[0mlayers\u001b[0m\u001b[0;34m[\u001b[0m\u001b[0;36m0\u001b[0m\u001b[0;34m]\u001b[0m\u001b[0;34m]\u001b[0m\u001b[0;34m[\u001b[0m\u001b[0mlayers\u001b[0m\u001b[0;34m[\u001b[0m\u001b[0;36m0\u001b[0m\u001b[0;34m]\u001b[0m\u001b[0;34m]\u001b[0m\u001b[0;34m[\u001b[0m\u001b[0;34m\"kernel:0\"\u001b[0m\u001b[0;34m]\u001b[0m\u001b[0;34m)\u001b[0m\u001b[0;34m.\u001b[0m\u001b[0mshape\u001b[0m\u001b[0;34m\u001b[0m\u001b[0;34m\u001b[0m\u001b[0m\n\u001b[0m",
      "\u001b[0;31mTypeError\u001b[0m: '_io.TextIOWrapper' object is not subscriptable"
     ]
    }
   ],
   "source": [
    "np.array(f[\"model_weights\"][layers[0]][layers[0]][\"kernel:0\"]).shape"
   ]
  },
  {
   "cell_type": "code",
   "execution_count": 32,
   "metadata": {},
   "outputs": [],
   "source": [
    "with open(\"weights.h\", \"w\") as f:\n",
    "    for i in range(len(layers)):\n",
    "        weights = np.array(m[\"model_weights\"][layers[i]][layers[i]][\"kernel:0\"])\n",
    "        biases = np.array(m[\"model_weights\"][layers[i]][layers[i]][\"bias:0\"])\n",
    "        \n",
    "        if(i < 2):\n",
    "            weights = np.moveaxis(weights, [3, 2], [0, 1])\n",
    "        \n",
    "            f.write(\"double \" + str(layers[i]) + \"_w[\" + str(weights.size) + \"] = {\")\n",
    "            for j in range(weights.size):\n",
    "                w = list(weights.flat)\n",
    "                if(j == 0):\n",
    "                    f.write(str(w[j]))\n",
    "                elif(j != weights.size - 1):\n",
    "                    f.write(',' + str(w[j]))\n",
    "                else:\n",
    "                    f.write(',' + str(w[j]) + \"};\\n\\n\")\n",
    "#                     f.write()\n",
    "\n",
    "            f.write(\"double \" + str(layers[i]) + \"_b[\" + str(biases.size) + \"] = {\")\n",
    "            for j in range(biases.size):\n",
    "                if(j == 0):\n",
    "                    f.write(str(biases[j]))\n",
    "                elif(j != biases.size - 1):\n",
    "                    f.write(\",\" + str(biases[j]))\n",
    "                else:\n",
    "                    f.write(',' + str(biases[j]) + \"};\\n\\n\")\n",
    "#                     f.write(\"};\\n\\n\")\n",
    "        \n",
    "        else:        \n",
    "            f.write(\"double \" + str(layers[i]) + \"_w[\" + str(weights.size) + \"] = {\")\n",
    "            for j in range(weights.size):\n",
    "                w = list(weights.flat)\n",
    "                if(j == 0):\n",
    "                    f.write(str(biases[j]))\n",
    "                elif(j != weights.size - 1):\n",
    "                    f.write(',' + str(w[j]))\n",
    "                else:\n",
    "                    f.write(',' + str(w[j]) + \"};\\n\\n\")\n",
    "#                     f.write(\"};\\n\\n\")\n",
    "\n",
    "            f.write(\"double \" + str(layers[i]) + \"_b[\" + str(biases.size) + \"] = {\")\n",
    "            for j in range(biases.size):\n",
    "                if(j == 0):\n",
    "                    f.write(str(biases[j]))\n",
    "                elif(j != biases.size - 1):\n",
    "                    f.write(\",\" + str(biases[j]))\n",
    "                else:\n",
    "                    f.write(',' + str(biases[j]) + \"};\\n\\n\")\n",
    "#                     f.write(\"};\\n\\n\")\n",
    "            \n",
    "#         if(i == 1):\n",
    "#             break\n",
    "        "
   ]
  },
  {
   "cell_type": "code",
   "execution_count": 11,
   "metadata": {},
   "outputs": [
    {
     "ename": "TypeError",
     "evalue": "'_io.TextIOWrapper' object is not subscriptable",
     "output_type": "error",
     "traceback": [
      "\u001b[0;31m---------------------------------------------------------------------------\u001b[0m",
      "\u001b[0;31mTypeError\u001b[0m                                 Traceback (most recent call last)",
      "\u001b[0;32m<ipython-input-11-d817f2208b25>\u001b[0m in \u001b[0;36m<module>\u001b[0;34m\u001b[0m\n\u001b[0;32m----> 1\u001b[0;31m \u001b[0mnp\u001b[0m\u001b[0;34m.\u001b[0m\u001b[0marray\u001b[0m\u001b[0;34m(\u001b[0m\u001b[0mf\u001b[0m\u001b[0;34m[\u001b[0m\u001b[0;34m\"model_weights\"\u001b[0m\u001b[0;34m]\u001b[0m\u001b[0;34m[\u001b[0m\u001b[0;34m\"conv2d\"\u001b[0m\u001b[0;34m]\u001b[0m\u001b[0;34m[\u001b[0m\u001b[0;34m\"conv2d\"\u001b[0m\u001b[0;34m]\u001b[0m\u001b[0;34m[\u001b[0m\u001b[0;34m\"kernel:0\"\u001b[0m\u001b[0;34m]\u001b[0m\u001b[0;34m)\u001b[0m\u001b[0;34m.\u001b[0m\u001b[0mshape\u001b[0m\u001b[0;34m,\u001b[0m \u001b[0mnp\u001b[0m\u001b[0;34m.\u001b[0m\u001b[0marray\u001b[0m\u001b[0;34m(\u001b[0m\u001b[0mf\u001b[0m\u001b[0;34m[\u001b[0m\u001b[0;34m\"model_weights\"\u001b[0m\u001b[0;34m]\u001b[0m\u001b[0;34m[\u001b[0m\u001b[0;34m\"conv2d_1\"\u001b[0m\u001b[0;34m]\u001b[0m\u001b[0;34m[\u001b[0m\u001b[0;34m\"conv2d_1\"\u001b[0m\u001b[0;34m]\u001b[0m\u001b[0;34m[\u001b[0m\u001b[0;34m\"kernel:0\"\u001b[0m\u001b[0;34m]\u001b[0m\u001b[0;34m)\u001b[0m\u001b[0;34m.\u001b[0m\u001b[0mshape\u001b[0m\u001b[0;34m\u001b[0m\u001b[0;34m\u001b[0m\u001b[0m\n\u001b[0m",
      "\u001b[0;31mTypeError\u001b[0m: '_io.TextIOWrapper' object is not subscriptable"
     ]
    }
   ],
   "source": [
    "np.array(f[\"model_weights\"][\"conv2d\"][\"conv2d\"][\"kernel:0\"]).shape, np.array(f[\"model_weights\"][\"conv2d_1\"][\"conv2d_1\"][\"kernel:0\"]).shape"
   ]
  },
  {
   "cell_type": "code",
   "execution_count": null,
   "metadata": {},
   "outputs": [],
   "source": [
    "np.array(f[\"model_weights\"][\"conv2d\"][\"conv2d\"][\"bias:0\"]).shape, np.array(f[\"model_weights\"][\"conv2d_1\"][\"conv2d_1\"][\"bias:0\"]).shape"
   ]
  },
  {
   "cell_type": "code",
   "execution_count": null,
   "metadata": {},
   "outputs": [],
   "source": [
    "np.array(f[\"model_weights\"][\"dense\"][\"dense\"][\"kernel:0\"]).shape, np.array(f[\"model_weights\"][\"dense_1\"][\"dense_1\"][\"kernel:0\"]).shape"
   ]
  },
  {
   "cell_type": "code",
   "execution_count": null,
   "metadata": {},
   "outputs": [],
   "source": [
    "a = np.zeros((3, 1, 4, 5))\n",
    "np.moveaxis(a, [3, 2], [0, 1]).shape"
   ]
  },
  {
   "cell_type": "code",
   "execution_count": 10,
   "metadata": {},
   "outputs": [
    {
     "name": "stderr",
     "output_type": "stream",
     "text": [
      "Using TensorFlow backend.\n"
     ]
    }
   ],
   "source": [
    "import tensorflow as tf\n",
    "from tensorflow import keras\n",
    "import numpy as np\n",
    "from matplotlib import pyplot\n",
    "from keras.models import model_from_json"
   ]
  },
  {
   "cell_type": "code",
   "execution_count": 6,
   "metadata": {},
   "outputs": [
    {
     "data": {
      "text/plain": [
       "(60000, 28, 28)"
      ]
     },
     "execution_count": 6,
     "metadata": {},
     "output_type": "execute_result"
    }
   ],
   "source": [
    "(train_x, train_y), (test_x, test_y) = keras.datasets.mnist.load_data()\n",
    "train_x = train_x / 255.0\n",
    "test_x = test_x / 255.0\n",
    "train_x.shape"
   ]
  },
  {
   "cell_type": "code",
   "execution_count": 7,
   "metadata": {},
   "outputs": [
    {
     "data": {
      "text/plain": [
       "array([5, 0, 4, 1, 9, 2, 1, 3], dtype=uint8)"
      ]
     },
     "execution_count": 7,
     "metadata": {},
     "output_type": "execute_result"
    }
   ],
   "source": [
    "train_y[0:8]"
   ]
  },
  {
   "cell_type": "code",
   "execution_count": 8,
   "metadata": {},
   "outputs": [
    {
     "data": {
      "text/plain": [
       "TensorShape([60000, 28, 28, 1])"
      ]
     },
     "execution_count": 8,
     "metadata": {},
     "output_type": "execute_result"
    }
   ],
   "source": [
    "train_x = tf.expand_dims(train_x, 3)\n",
    "test_x = tf.expand_dims(test_x, 3)\n",
    "val_x = train_x[:5000]\n",
    "val_y = train_y[:5000]\n",
    "train_x.shape"
   ]
  },
  {
   "cell_type": "code",
   "execution_count": 14,
   "metadata": {},
   "outputs": [],
   "source": [
    "lenet_5_model = keras.models.Sequential([\n",
    "    keras.layers.Conv2D(6, kernel_size=5, strides=1,  activation='tanh', input_shape=train_x[0].shape, padding='same'), #C1\n",
    "    keras.layers.AveragePooling2D(), #S2\n",
    "    keras.layers.Conv2D(16, kernel_size=5, strides=1, activation='tanh', padding='valid'), #C3\n",
    "    keras.layers.AveragePooling2D(), #S4\n",
    "    keras.layers.Flatten(), #Flatten\n",
    "    keras.layers.Dense(120, activation='tanh'), #C5\n",
    "    keras.layers.Dense(84, activation='tanh'), #F6\n",
    "    keras.layers.Dense(10, activation='softmax') #Output layer\n",
    "])"
   ]
  },
  {
   "cell_type": "code",
   "execution_count": 15,
   "metadata": {},
   "outputs": [],
   "source": [
    "lenet_5_model.compile(optimizer='adam',loss=keras.losses.sparse_categorical_crossentropy, metrics=['accuracy'])"
   ]
  },
  {
   "cell_type": "code",
   "execution_count": 16,
   "metadata": {},
   "outputs": [
    {
     "name": "stdout",
     "output_type": "stream",
     "text": [
      "Epoch 1/5\n",
      "1875/1875 [==============================] - 3s 1ms/step - loss: 0.2198 - accuracy: 0.9342 - val_loss: 0.0924 - val_accuracy: 0.9722\n",
      "Epoch 2/5\n",
      "1875/1875 [==============================] - 3s 1ms/step - loss: 0.0841 - accuracy: 0.9740 - val_loss: 0.0501 - val_accuracy: 0.9864\n",
      "Epoch 3/5\n",
      "1875/1875 [==============================] - 3s 1ms/step - loss: 0.0578 - accuracy: 0.9817 - val_loss: 0.0443 - val_accuracy: 0.9876\n",
      "Epoch 4/5\n",
      "1875/1875 [==============================] - 3s 1ms/step - loss: 0.0443 - accuracy: 0.9858 - val_loss: 0.0344 - val_accuracy: 0.9894\n",
      "Epoch 5/5\n",
      "1875/1875 [==============================] - 3s 1ms/step - loss: 0.0358 - accuracy: 0.9883 - val_loss: 0.0267 - val_accuracy: 0.9918\n"
     ]
    },
    {
     "data": {
      "text/plain": [
       "<tensorflow.python.keras.callbacks.History at 0x7f8d6b36b670>"
      ]
     },
     "execution_count": 16,
     "metadata": {},
     "output_type": "execute_result"
    }
   ],
   "source": [
    "lenet_5_model.fit(train_x, train_y, epochs=5, validation_data=(val_x, val_y))"
   ]
  },
  {
   "cell_type": "code",
   "execution_count": 17,
   "metadata": {},
   "outputs": [
    {
     "name": "stdout",
     "output_type": "stream",
     "text": [
      "313/313 [==============================] - 0s 1ms/step - loss: 0.0532 - accuracy: 0.9833\n"
     ]
    },
    {
     "data": {
      "text/plain": [
       "[0.053214214742183685, 0.983299970626831]"
      ]
     },
     "execution_count": 17,
     "metadata": {},
     "output_type": "execute_result"
    }
   ],
   "source": [
    "lenet_5_model.evaluate(test_x, test_y)"
   ]
  },
  {
   "cell_type": "code",
   "execution_count": 18,
   "metadata": {},
   "outputs": [
    {
     "data": {
      "image/png": "[encoded data removed]",
      "text/plain": [
       "<Figure size 432x288 with 1 Axes>"
      ]
     },
     "metadata": {
      "needs_background": "light"
     },
     "output_type": "display_data"
    },
    {
     "data": {
      "image/png": "[encoded data removed]",
      "text/plain": [
       "<Figure size 432x288 with 1 Axes>"
      ]
     },
     "metadata": {
      "needs_background": "light"
     },
     "output_type": "display_data"
    },
    {
     "data": {
      "image/png": "[encoded data removed]",
      "text/plain": [
       "<Figure size 432x288 with 1 Axes>"
      ]
     },
     "metadata": {
      "needs_background": "light"
     },
     "output_type": "display_data"
    }
   ],
   "source": [
    "for i in range(3):  \n",
    "    pyplot.subplot(330 + 1 + i)\n",
    "    pyplot.imshow(train_x[i], cmap=pyplot.get_cmap('gray'))\n",
    "    pyplot.show()"
   ]
  },
  {
   "cell_type": "code",
   "execution_count": 19,
   "metadata": {},
   "outputs": [],
   "source": [
    "import os"
   ]
  },
  {
   "cell_type": "code",
   "execution_count": 20,
   "metadata": {},
   "outputs": [
    {
     "name": "stdout",
     "output_type": "stream",
     "text": [
      "WARNING:tensorflow:From /users/dofihama32/anaconda3/lib/python3.8/site-packages/tensorflow/python/ops/resource_variable_ops.py:1813: calling BaseResourceVariable.__init__ (from tensorflow.python.ops.resource_variable_ops) with constraint is deprecated and will be removed in a future version.\n",
      "Instructions for updating:\n",
      "If using Keras pass *_constraint arguments to layers.\n",
      "INFO:tensorflow:Assets written to: lenet_5_model/assets\n",
      "['saved_model.pb', 'assets', 'variables']\n"
     ]
    }
   ],
   "source": [
    "lenet_5_model.save('lenet_5_model')\n",
    "print(os.listdir('lenet_5_model'))"
   ]
  },
  {
   "cell_type": "code",
   "execution_count": 23,
   "metadata": {},
   "outputs": [],
   "source": [
    "m.close()"
   ]
  },
  {
   "cell_type": "code",
   "execution_count": 24,
   "metadata": {},
   "outputs": [],
   "source": [
    "lenet_5_model.save(\"my.h5\")"
   ]
  },
  {
   "cell_type": "code",
   "execution_count": 25,
   "metadata": {},
   "outputs": [
    {
     "name": "stdout",
     "output_type": "stream",
     "text": [
      "Model: \"sequential\"\n",
      "_________________________________________________________________\n",
      "Layer (type)                 Output Shape              Param #   \n",
      "=================================================================\n",
      "conv2d (Conv2D)              (None, 28, 28, 6)         156       \n",
      "_________________________________________________________________\n",
      "average_pooling2d (AveragePo (None, 14, 14, 6)         0         \n",
      "_________________________________________________________________\n",
      "conv2d_1 (Conv2D)            (None, 10, 10, 16)        2416      \n",
      "_________________________________________________________________\n",
      "average_pooling2d_1 (Average (None, 5, 5, 16)          0         \n",
      "_________________________________________________________________\n",
      "flatten (Flatten)            (None, 400)               0         \n",
      "_________________________________________________________________\n",
      "dense (Dense)                (None, 120)               48120     \n",
      "_________________________________________________________________\n",
      "dense_1 (Dense)              (None, 84)                10164     \n",
      "_________________________________________________________________\n",
      "dense_2 (Dense)              (None, 10)                850       \n",
      "=================================================================\n",
      "Total params: 61,706\n",
      "Trainable params: 61,706\n",
      "Non-trainable params: 0\n",
      "_________________________________________________________________\n"
     ]
    }
   ],
   "source": [
    "lenet_5_model.summary()"
   ]
  },
  {
   "cell_type": "code",
   "execution_count": 14,
   "metadata": {},
   "outputs": [],
   "source": [
    "json_model = lenet_5_model.to_json()"
   ]
  },
  {
   "cell_type": "code",
   "execution_count": 15,
   "metadata": {},
   "outputs": [],
   "source": [
    "with open('fashionmnist_model.json', 'w') as json_file:\n",
    "    json_file.write(json_model)"
   ]
  },
  {
   "cell_type": "code",
   "execution_count": 16,
   "metadata": {},
   "outputs": [],
   "source": [
    "lenet_5_model.save_weights('FashionMNIST_weights.h5')"
   ]
  },
  {
   "cell_type": "code",
   "execution_count": null,
   "metadata": {},
   "outputs": [],
   "source": []
  },
  {
   "cell_type": "code",
   "execution_count": null,
   "metadata": {},
   "outputs": [],
   "source": []
  },
  {
   "cell_type": "code",
   "execution_count": 26,
   "metadata": {},
   "outputs": [],
   "source": [
    "a = np.array(lenet_5_model.layers[0].get_weights()[0])"
   ]
  },
  {
   "cell_type": "code",
   "execution_count": 51,
   "metadata": {},
   "outputs": [],
   "source": [
    "# np.moveaxis(a, [3, 2], [0, 1])"
   ]
  },
  {
   "cell_type": "code",
   "execution_count": 46,
   "metadata": {},
   "outputs": [
    {
     "data": {
      "text/plain": [
       "2"
      ]
     },
     "execution_count": 46,
     "metadata": {},
     "output_type": "execute_result"
    }
   ],
   "source": [
    "len(lenet_5_model.layers[0].get_weights())"
   ]
  },
  {
   "cell_type": "code",
   "execution_count": 9,
   "metadata": {},
   "outputs": [],
   "source": [
    "test_model = keras.models.Sequential([\n",
    "    keras.layers.Conv2D(6, kernel_size=5, strides=1,  activation='tanh', input_shape=train_x[0].shape, padding='same')\n",
    "])"
   ]
  },
  {
   "cell_type": "code",
   "execution_count": 10,
   "metadata": {},
   "outputs": [
    {
     "data": {
      "text/plain": [
       "(6, 1, 5, 5)"
      ]
     },
     "execution_count": 10,
     "metadata": {},
     "output_type": "execute_result"
    }
   ],
   "source": [
    "w1 = lenet_5_model.layers[0].get_weights()[0]\n",
    "w1 = np.moveaxis(w1, [3, 2], [0, 1])\n",
    "w1.shape"
   ]
  },
  {
   "cell_type": "code",
   "execution_count": 11,
   "metadata": {},
   "outputs": [],
   "source": [
    "# w1"
   ]
  },
  {
   "cell_type": "code",
   "execution_count": 12,
   "metadata": {},
   "outputs": [],
   "source": [
    "test_model.layers[0].set_weights(lenet_5_model.layers[0].get_weights())"
   ]
  },
  {
   "cell_type": "code",
   "execution_count": 14,
   "metadata": {},
   "outputs": [
    {
     "data": {
      "text/plain": [
       "(1, 28, 28, 6)"
      ]
     },
     "execution_count": 14,
     "metadata": {},
     "output_type": "execute_result"
    }
   ],
   "source": [
    "test_model.predict(test_x[0][np.newaxis, :]).shape"
   ]
  },
  {
   "cell_type": "code",
   "execution_count": 15,
   "metadata": {},
   "outputs": [
    {
     "data": {
      "text/plain": [
       "(1, 6, 28, 28)"
      ]
     },
     "execution_count": 15,
     "metadata": {},
     "output_type": "execute_result"
    }
   ],
   "source": [
    "pred_rm_axis = np.moveaxis(test_model.predict(test_x[0][np.newaxis, :]), 3, 1)\n",
    "pred_rm_axis.shape"
   ]
  },
  {
   "cell_type": "code",
   "execution_count": 16,
   "metadata": {},
   "outputs": [
    {
     "data": {
      "text/plain": [
       "array([[[[ 0.08571209,  0.08571209,  0.08571209, ...,  0.08571209,\n",
       "           0.08571209,  0.08571209],\n",
       "         [ 0.08571209,  0.08571209,  0.08571209, ...,  0.08571209,\n",
       "           0.08571209,  0.08571209],\n",
       "         [ 0.08571209,  0.08571209,  0.08571209, ...,  0.08571209,\n",
       "           0.08571209,  0.08571209],\n",
       "         ...,\n",
       "         [ 0.08571209,  0.08571209,  0.08571209, ...,  0.08571209,\n",
       "           0.08571209,  0.08571209],\n",
       "         [ 0.08571209,  0.08571209,  0.08571209, ...,  0.08571209,\n",
       "           0.08571209,  0.08571209],\n",
       "         [ 0.08571209,  0.08571209,  0.08571209, ...,  0.08571209,\n",
       "           0.08571209,  0.08571209]],\n",
       "\n",
       "        [[ 0.01985436,  0.01985436,  0.01985436, ...,  0.01985436,\n",
       "           0.01985436,  0.01985436],\n",
       "         [ 0.01985436,  0.01985436,  0.01985436, ...,  0.01985436,\n",
       "           0.01985436,  0.01985436],\n",
       "         [ 0.01985436,  0.01985436,  0.01985436, ...,  0.01985436,\n",
       "           0.01985436,  0.01985436],\n",
       "         ...,\n",
       "         [ 0.01985436,  0.01985436,  0.01985436, ...,  0.01985436,\n",
       "           0.01985436,  0.01985436],\n",
       "         [ 0.01985436,  0.01985436,  0.01985436, ...,  0.01985436,\n",
       "           0.01985436,  0.01985436],\n",
       "         [ 0.01985436,  0.01985436,  0.01985436, ...,  0.01985436,\n",
       "           0.01985436,  0.01985436]],\n",
       "\n",
       "        [[ 0.05756246,  0.05756246,  0.05756246, ...,  0.05756246,\n",
       "           0.05756246,  0.05756246],\n",
       "         [ 0.05756246,  0.05756246,  0.05756246, ...,  0.05756246,\n",
       "           0.05756246,  0.05756246],\n",
       "         [ 0.05756246,  0.05756246,  0.05756246, ...,  0.05756246,\n",
       "           0.05756246,  0.05756246],\n",
       "         ...,\n",
       "         [ 0.05756246,  0.05756246,  0.05756246, ...,  0.05756246,\n",
       "           0.05756246,  0.05756246],\n",
       "         [ 0.05756246,  0.05756246,  0.05756246, ...,  0.05756246,\n",
       "           0.05756246,  0.05756246],\n",
       "         [ 0.05756246,  0.05756246,  0.05756246, ...,  0.05756246,\n",
       "           0.05756246,  0.05756246]],\n",
       "\n",
       "        [[-0.04866684, -0.04866684, -0.04866684, ..., -0.04866684,\n",
       "          -0.04866684, -0.04866684],\n",
       "         [-0.04866684, -0.04866684, -0.04866684, ..., -0.04866684,\n",
       "          -0.04866684, -0.04866684],\n",
       "         [-0.04866684, -0.04866684, -0.04866684, ..., -0.04866684,\n",
       "          -0.04866684, -0.04866684],\n",
       "         ...,\n",
       "         [-0.04866684, -0.04866684, -0.04866684, ..., -0.04866684,\n",
       "          -0.04866684, -0.04866684],\n",
       "         [-0.04866684, -0.04866684, -0.04866684, ..., -0.04866684,\n",
       "          -0.04866684, -0.04866684],\n",
       "         [-0.04866684, -0.04866684, -0.04866684, ..., -0.04866684,\n",
       "          -0.04866684, -0.04866684]],\n",
       "\n",
       "        [[-0.06357613, -0.06357613, -0.06357613, ..., -0.06357613,\n",
       "          -0.06357613, -0.06357613],\n",
       "         [-0.06357613, -0.06357613, -0.06357613, ..., -0.06357613,\n",
       "          -0.06357613, -0.06357613],\n",
       "         [-0.06357613, -0.06357613, -0.06357613, ..., -0.06357613,\n",
       "          -0.06357613, -0.06357613],\n",
       "         ...,\n",
       "         [-0.06357613, -0.06357613, -0.06357613, ..., -0.06357613,\n",
       "          -0.06357613, -0.06357613],\n",
       "         [-0.06357613, -0.06357613, -0.06357613, ..., -0.06357613,\n",
       "          -0.06357613, -0.06357613],\n",
       "         [-0.06357613, -0.06357613, -0.06357613, ..., -0.06357613,\n",
       "          -0.06357613, -0.06357613]],\n",
       "\n",
       "        [[-0.07681817, -0.07681817, -0.07681817, ..., -0.07681817,\n",
       "          -0.07681817, -0.07681817],\n",
       "         [-0.07681817, -0.07681817, -0.07681817, ..., -0.07681817,\n",
       "          -0.07681817, -0.07681817],\n",
       "         [-0.07681817, -0.07681817, -0.07681817, ..., -0.07681817,\n",
       "          -0.07681817, -0.07681817],\n",
       "         ...,\n",
       "         [-0.07681817, -0.07681817, -0.07681817, ..., -0.07681817,\n",
       "          -0.07681817, -0.07681817],\n",
       "         [-0.07681817, -0.07681817, -0.07681817, ..., -0.07681817,\n",
       "          -0.07681817, -0.07681817],\n",
       "         [-0.07681817, -0.07681817, -0.07681817, ..., -0.07681817,\n",
       "          -0.07681817, -0.07681817]]]], dtype=float32)"
      ]
     },
     "execution_count": 16,
     "metadata": {},
     "output_type": "execute_result"
    }
   ],
   "source": [
    "pred_rm_axis"
   ]
  },
  {
   "cell_type": "code",
   "execution_count": null,
   "metadata": {},
   "outputs": [],
   "source": []
  }
 ],
 "metadata": {
  "kernelspec": {
   "display_name": "Python 3",
   "language": "python",
   "name": "python3"
  },
  "language_info": {
   "codemirror_mode": {
    "name": "ipython",
    "version": 3
   },
   "file_extension": ".py",
   "mimetype": "text/x-python",
   "name": "python",
   "nbconvert_exporter": "python",
   "pygments_lexer": "ipython3",
   "version": "3.8.5"
  }
 },
 "nbformat": 4,
 "nbformat_minor": 5
}
